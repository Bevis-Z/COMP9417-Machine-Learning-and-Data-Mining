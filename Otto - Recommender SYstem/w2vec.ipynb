{
 "cells": [
  {
   "cell_type": "markdown",
   "metadata": {},
   "source": [
    "# COMP9417 group project Word2vec model\n",
    "\n",
    "## Group Member: \n",
    "                Meng Xiao(z5298034) \n",
    "                Feiyu Qiao(z5324320) \n",
    "                Huizhe Sun(z5375498) \n",
    "                Xinchen Zou(z5378240) \n",
    "                Bowen Zhao(z5446616) "
   ]
  },
  {
   "cell_type": "markdown",
   "metadata": {},
   "source": [
    "# Please run this file under Kaggle environment:\n",
    "# https://www.kaggle.com/code/simonxm/comp9417-project/notebook?scriptVersionId=138794837\n",
    "\n",
    "# And download the dataset:\n",
    "# https://www.kaggle.com/datasets/simonxm/w2vec-model"
   ]
  },
  {
   "cell_type": "code",
   "execution_count": null,
   "metadata": {},
   "outputs": [],
   "source": [
    "import polars as pl\n",
    "from gensim.models import Word2Vec\n",
    "import gc\n",
    "\n",
    "# import dataset\n",
    "train_set = pl.read_parquet('/kaggle/input/w2vec-model/train.parquet')\n",
    "test_set = pl.read_parquet('/kaggle/input/w2vec-model/test.parquet')"
   ]
  },
  {
   "cell_type": "code",
   "execution_count": 2,
   "metadata": {},
   "outputs": [],
   "source": [
    "# pre-process the data\n",
    "# covert the discreted aids into sentence and input them\n",
    "sentences_df = pl.concat([train_set, test_set]).unique().groupby('session').agg(\n",
    "    pl.col('aid').alias('sentence')\n",
    ")\n",
    "sentences = sentences_df['sentence'].to_list()\n",
    "\n",
    "del sentences_df"
   ]
  },
  {
   "cell_type": "code",
   "execution_count": 3,
   "metadata": {},
   "outputs": [],
   "source": [
    "# Hash function to initialize weights\n",
    "def hashfxn(key):\n",
    "\n",
    "    output = 0\n",
    "\n",
    "    for item, character in enumerate(repr(key), start=1):\n",
    "        output += item *ord(character)\n",
    "        \n",
    "    return output"
   ]
  },
  {
   "cell_type": "code",
   "execution_count": 4,
   "metadata": {},
   "outputs": [],
   "source": [
    "import multiprocessing\n",
    "\n",
    "cores = multiprocessing.cpu_count() \n",
    "\n",
    "w2vec = Word2Vec(\n",
    "                 sentences=sentences, \n",
    "                 window = 3,                \n",
    "                 vector_size=64,\n",
    "                 min_count=1,\n",
    "                 sg=1,\n",
    "                 ns_exponent= 0.2,\n",
    "                 negative=8,\n",
    "                 workers=4,\n",
    "                 hashfxn=hashfxn\n",
    "                )"
   ]
  },
  {
   "cell_type": "code",
   "execution_count": 5,
   "metadata": {},
   "outputs": [
    {
     "data": {
      "text/plain": [
       "True"
      ]
     },
     "execution_count": 5,
     "metadata": {},
     "output_type": "execute_result"
    }
   ],
   "source": [
    "from annoy import AnnoyIndex\n",
    "\n",
    "aid2idx = {aid: i for i, aid in enumerate(w2vec.wv.index_to_key)}\n",
    "index = AnnoyIndex(64, 'angular')\n",
    "\n",
    "for aid, idx in aid2idx.items():\n",
    "    index.add_item(aid, w2vec.wv.vectors[idx])\n",
    "    \n",
    "index.build(32)"
   ]
  },
  {
   "cell_type": "code",
   "execution_count": 6,
   "metadata": {},
   "outputs": [
    {
     "data": {
      "text/html": [
       "<div>\n",
       "<style scoped>\n",
       "    .dataframe tbody tr th:only-of-type {\n",
       "        vertical-align: middle;\n",
       "    }\n",
       "\n",
       "    .dataframe tbody tr th {\n",
       "        vertical-align: top;\n",
       "    }\n",
       "\n",
       "    .dataframe thead th {\n",
       "        text-align: right;\n",
       "    }\n",
       "</style>\n",
       "<table border=\"1\" class=\"dataframe\">\n",
       "  <thead>\n",
       "    <tr style=\"text-align: right;\">\n",
       "      <th></th>\n",
       "      <th>session</th>\n",
       "      <th>labels</th>\n",
       "      <th>labels_clicks</th>\n",
       "      <th>labels_carts</th>\n",
       "      <th>labels_orders</th>\n",
       "    </tr>\n",
       "  </thead>\n",
       "  <tbody>\n",
       "    <tr>\n",
       "      <th>0</th>\n",
       "      <td>13728736</td>\n",
       "      <td>[1825743, 289406, 440116]</td>\n",
       "      <td>[1825743, 289406, 440116]</td>\n",
       "      <td>NaN</td>\n",
       "      <td>NaN</td>\n",
       "    </tr>\n",
       "    <tr>\n",
       "      <th>1</th>\n",
       "      <td>14275280</td>\n",
       "      <td>[932643, 186812]</td>\n",
       "      <td>[932643, 186812]</td>\n",
       "      <td>NaN</td>\n",
       "      <td>NaN</td>\n",
       "    </tr>\n",
       "    <tr>\n",
       "      <th>2</th>\n",
       "      <td>14333264</td>\n",
       "      <td>[125957]</td>\n",
       "      <td>[125957]</td>\n",
       "      <td>NaN</td>\n",
       "      <td>NaN</td>\n",
       "    </tr>\n",
       "    <tr>\n",
       "      <th>3</th>\n",
       "      <td>13220688</td>\n",
       "      <td>[295859, 1517911, 1750274, 1750274, 1038449, 1...</td>\n",
       "      <td>[295859, 1517911, 1750274, 1750274, 1038449, 1...</td>\n",
       "      <td>NaN</td>\n",
       "      <td>NaN</td>\n",
       "    </tr>\n",
       "    <tr>\n",
       "      <th>4</th>\n",
       "      <td>14494528</td>\n",
       "      <td>[175329, 174509, 175329]</td>\n",
       "      <td>[175329, 174509, 175329]</td>\n",
       "      <td>NaN</td>\n",
       "      <td>NaN</td>\n",
       "    </tr>\n",
       "    <tr>\n",
       "      <th>...</th>\n",
       "      <td>...</td>\n",
       "      <td>...</td>\n",
       "      <td>...</td>\n",
       "      <td>...</td>\n",
       "      <td>...</td>\n",
       "    </tr>\n",
       "    <tr>\n",
       "      <th>1671798</th>\n",
       "      <td>14287807</td>\n",
       "      <td>[1486938]</td>\n",
       "      <td>[1486938]</td>\n",
       "      <td>NaN</td>\n",
       "      <td>NaN</td>\n",
       "    </tr>\n",
       "    <tr>\n",
       "      <th>1671799</th>\n",
       "      <td>14294447</td>\n",
       "      <td>[1005882, 1005882]</td>\n",
       "      <td>[1005882]</td>\n",
       "      <td>[1005882]</td>\n",
       "      <td>NaN</td>\n",
       "    </tr>\n",
       "    <tr>\n",
       "      <th>1671800</th>\n",
       "      <td>13339823</td>\n",
       "      <td>[193634]</td>\n",
       "      <td>[193634]</td>\n",
       "      <td>NaN</td>\n",
       "      <td>NaN</td>\n",
       "    </tr>\n",
       "    <tr>\n",
       "      <th>1671801</th>\n",
       "      <td>13971983</td>\n",
       "      <td>[1628544, 972504]</td>\n",
       "      <td>[1628544, 972504]</td>\n",
       "      <td>NaN</td>\n",
       "      <td>NaN</td>\n",
       "    </tr>\n",
       "    <tr>\n",
       "      <th>1671802</th>\n",
       "      <td>14467839</td>\n",
       "      <td>[1185445]</td>\n",
       "      <td>[1185445]</td>\n",
       "      <td>NaN</td>\n",
       "      <td>NaN</td>\n",
       "    </tr>\n",
       "  </tbody>\n",
       "</table>\n",
       "<p>1671803 rows × 5 columns</p>\n",
       "</div>"
      ],
      "text/plain": [
       "          session                                             labels  \\\n",
       "0        13728736                          [1825743, 289406, 440116]   \n",
       "1        14275280                                   [932643, 186812]   \n",
       "2        14333264                                           [125957]   \n",
       "3        13220688  [295859, 1517911, 1750274, 1750274, 1038449, 1...   \n",
       "4        14494528                           [175329, 174509, 175329]   \n",
       "...           ...                                                ...   \n",
       "1671798  14287807                                          [1486938]   \n",
       "1671799  14294447                                 [1005882, 1005882]   \n",
       "1671800  13339823                                           [193634]   \n",
       "1671801  13971983                                  [1628544, 972504]   \n",
       "1671802  14467839                                          [1185445]   \n",
       "\n",
       "                                             labels_clicks labels_carts  \\\n",
       "0                                [1825743, 289406, 440116]          NaN   \n",
       "1                                         [932643, 186812]          NaN   \n",
       "2                                                 [125957]          NaN   \n",
       "3        [295859, 1517911, 1750274, 1750274, 1038449, 1...          NaN   \n",
       "4                                 [175329, 174509, 175329]          NaN   \n",
       "...                                                    ...          ...   \n",
       "1671798                                          [1486938]          NaN   \n",
       "1671799                                          [1005882]    [1005882]   \n",
       "1671800                                           [193634]          NaN   \n",
       "1671801                                  [1628544, 972504]          NaN   \n",
       "1671802                                          [1185445]          NaN   \n",
       "\n",
       "        labels_orders  \n",
       "0                 NaN  \n",
       "1                 NaN  \n",
       "2                 NaN  \n",
       "3                 NaN  \n",
       "4                 NaN  \n",
       "...               ...  \n",
       "1671798           NaN  \n",
       "1671799           NaN  \n",
       "1671800           NaN  \n",
       "1671801           NaN  \n",
       "1671802           NaN  \n",
       "\n",
       "[1671803 rows x 5 columns]"
      ]
     },
     "execution_count": 6,
     "metadata": {},
     "output_type": "execute_result"
    }
   ],
   "source": [
    "# make some prediction on aids\n",
    "pred_test_df = pl.concat([test_set]).groupby('session').agg(pl.col('aid').alias('sentence')).to_pandas().rename(columns={'sentence':'labels'})\n",
    "\n",
    "sentences_df_clicks = pl.concat([test_set]).filter(pl.col('type') == 0)\n",
    "sentences_df_carts = pl.concat([test_set]).filter(pl.col('type') == 1)\n",
    "sentences_df_orders = pl.concat([test_set]).filter(pl.col('type') == 2)\n",
    "\n",
    "sentences_df_clicks = sentences_df_clicks.groupby('session').agg(pl.col('aid').alias('sentence')).to_pandas().rename(columns={'sentence':'labels_clicks'})\n",
    "sentences_df_carts = sentences_df_carts.groupby('session').agg(pl.col('aid').alias('sentence')).to_pandas().rename(columns={'sentence':'labels_carts'})\n",
    "sentences_df_orders = sentences_df_orders.groupby('session').agg(pl.col('aid').alias('sentence')).to_pandas().rename(columns={'sentence':'labels_orders'})\n",
    "\n",
    "pred_test_df = pred_test_df.merge(sentences_df_clicks, how='left', on='session') \\\n",
    "                           .merge(sentences_df_carts, how='left', on='session') \\\n",
    "                           .merge(sentences_df_orders, how='left', on='session')\n",
    "\n",
    "pred_test_df"
   ]
  },
  {
   "cell_type": "code",
   "execution_count": 7,
   "metadata": {},
   "outputs": [],
   "source": [
    "import pandas as pd\n",
    "import numpy as np\n",
    "\n",
    "from collections import defaultdict\n",
    "import collections\n",
    "\n",
    "\n",
    "session_types = ['clicks', 'carts', 'orders']\n",
    "test_session_AIDs = test_set.to_pandas().reset_index(drop=True).groupby('session')['aid'].apply(list)\n",
    "test_session_types = test_set.to_pandas().reset_index(drop=True).groupby('session')['type'].apply(list)\n",
    "\n",
    "output = []\n",
    "\n",
    "type_weight_multipliers = {0: 1, 1: 6, 2: 3}\n",
    "for AIDs, types in zip(test_session_AIDs, test_session_types):\n",
    "    if len(AIDs) >= 20:\n",
    "        # if we have over 20 aids, just use the log with given weights\n",
    "        weights=np.logspace(0.1,1,len(AIDs),base=2, endpoint=True)-1\n",
    "        aids_temp=defaultdict(lambda: 0)\n",
    "        for aid,w,t in zip(AIDs,weights,types): \n",
    "            aids_temp[aid]+= w * type_weight_multipliers[t]\n",
    "            \n",
    "        sorted_aids=[k for k, v in sorted(aids_temp.items(), key=lambda item: -item[1])]\n",
    "        output.append(sorted_aids[:20])\n",
    "    else:\n",
    "        AIDs = list(dict.fromkeys(AIDs[::-1]))\n",
    "        \n",
    "        most_recent_aid = AIDs[0]\n",
    "        # looking for neighbour to print\n",
    "        nns = [w2vec.wv.index_to_key[i] for i in index.get_nns_by_item(aid2idx[most_recent_aid], 21)[1:]]\n",
    "                        \n",
    "        output.append((AIDs+nns)[:20])"
   ]
  },
  {
   "cell_type": "code",
   "execution_count": 8,
   "metadata": {},
   "outputs": [],
   "source": [
    "labels_as_strings = [' '.join([str(l) for l in lls]) for lls in output]\n",
    "\n",
    "predictions = pd.DataFrame(data={'session_type': test_session_AIDs.index, 'labels': labels_as_strings})\n",
    "\n",
    "prediction_dfs = []\n",
    "\n",
    "for st in session_types:\n",
    "    modified_predictions = predictions.copy()\n",
    "    modified_predictions.session_type = modified_predictions.session_type.astype('str') + f'_{st}'\n",
    "    prediction_dfs.append(modified_predictions)\n",
    "\n",
    "submission = pd.concat(prediction_dfs).reset_index(drop=True)\n"
   ]
  },
  {
   "cell_type": "code",
   "execution_count": 9,
   "metadata": {},
   "outputs": [
    {
     "data": {
      "text/plain": [
       "0"
      ]
     },
     "execution_count": 9,
     "metadata": {},
     "output_type": "execute_result"
    }
   ],
   "source": [
    "submission.to_csv('submission_.csv', index=False)\n",
    "\n",
    "del prediction_dfs\n",
    "\n",
    "gc.collect()"
   ]
  },
  {
   "cell_type": "code",
   "execution_count": 10,
   "metadata": {},
   "outputs": [
    {
     "name": "stderr",
     "output_type": "stream",
     "text": [
      "c:\\Users\\user\\AppData\\Local\\Programs\\Python\\Python311\\Lib\\site-packages\\umap\\distances.py:1063: NumbaDeprecationWarning: \u001b[1mThe 'nopython' keyword argument was not supplied to the 'numba.jit' decorator. The implicit default value for this argument is currently False, but it will be changed to True in Numba 0.59.0. See https://numba.readthedocs.io/en/stable/reference/deprecation.html#deprecation-of-object-mode-fall-back-behaviour-when-using-jit for details.\u001b[0m\n",
      "  @numba.jit()\n",
      "c:\\Users\\user\\AppData\\Local\\Programs\\Python\\Python311\\Lib\\site-packages\\umap\\distances.py:1071: NumbaDeprecationWarning: \u001b[1mThe 'nopython' keyword argument was not supplied to the 'numba.jit' decorator. The implicit default value for this argument is currently False, but it will be changed to True in Numba 0.59.0. See https://numba.readthedocs.io/en/stable/reference/deprecation.html#deprecation-of-object-mode-fall-back-behaviour-when-using-jit for details.\u001b[0m\n",
      "  @numba.jit()\n",
      "c:\\Users\\user\\AppData\\Local\\Programs\\Python\\Python311\\Lib\\site-packages\\umap\\distances.py:1086: NumbaDeprecationWarning: \u001b[1mThe 'nopython' keyword argument was not supplied to the 'numba.jit' decorator. The implicit default value for this argument is currently False, but it will be changed to True in Numba 0.59.0. See https://numba.readthedocs.io/en/stable/reference/deprecation.html#deprecation-of-object-mode-fall-back-behaviour-when-using-jit for details.\u001b[0m\n",
      "  @numba.jit()\n",
      "c:\\Users\\user\\AppData\\Local\\Programs\\Python\\Python311\\Lib\\site-packages\\umap\\umap_.py:660: NumbaDeprecationWarning: \u001b[1mThe 'nopython' keyword argument was not supplied to the 'numba.jit' decorator. The implicit default value for this argument is currently False, but it will be changed to True in Numba 0.59.0. See https://numba.readthedocs.io/en/stable/reference/deprecation.html#deprecation-of-object-mode-fall-back-behaviour-when-using-jit for details.\u001b[0m\n",
      "  @numba.jit()\n",
      "C:\\Users\\user\\AppData\\Local\\Temp\\ipykernel_26664\\2041954462.py:14: UserWarning: No data for colormapping provided via 'c'. Parameters 'cmap' will be ignored\n",
      "  plt.scatter(cluster_embedding[:,0], cluster_embedding[:,1], s=3, cmap='Spectral')\n"
     ]
    },
    {
     "data": {
      "text/plain": [
       "<matplotlib.collections.PathCollection at 0x1d0244aeb90>"
      ]
     },
     "execution_count": 10,
     "metadata": {},
     "output_type": "execute_result"
    },
    {
     "data": {
      "image/png": "[encoded data removed]",
      "text/plain": [
       "<Figure size 640x480 with 1 Axes>"
      ]
     },
     "metadata": {},
     "output_type": "display_data"
    }
   ],
   "source": [
    "# Add visualization content\n",
    "import matplotlib.pyplot as plt\n",
    "import umap.umap_ as umap\n",
    "\n",
    "vocab = []\n",
    "\n",
    "# show 100 random aid in the dot plot, to check their relative distance\n",
    "for i in range(100):\n",
    "    vocab.append(w2vec.wv.key_to_index[i])\n",
    "X = w2vec.wv[vocab]\n",
    "\n",
    "cluster_embedding = umap.UMAP(n_neighbors=30, min_dist=0.0, n_components=2, random_state=42).fit_transform(X)\n",
    "plt.figure(1)\n",
    "plt.scatter(cluster_embedding[:,0], cluster_embedding[:,1], s=3, cmap='Spectral')"
   ]
  },
  {
   "cell_type": "markdown",
   "metadata": {},
   "source": [
    "As we can see in the above graph, the data is discrete. Two **adjoin** AIDs are considered as recommended  product to each other."
   ]
  },
  {
   "cell_type": "code",
   "execution_count": 11,
   "metadata": {},
   "outputs": [
    {
     "data": {
      "text/html": [
       "<div>\n",
       "<style scoped>\n",
       "    .dataframe tbody tr th:only-of-type {\n",
       "        vertical-align: middle;\n",
       "    }\n",
       "\n",
       "    .dataframe tbody tr th {\n",
       "        vertical-align: top;\n",
       "    }\n",
       "\n",
       "    .dataframe thead th {\n",
       "        text-align: right;\n",
       "    }\n",
       "</style>\n",
       "<table border=\"1\" class=\"dataframe\">\n",
       "  <thead>\n",
       "    <tr style=\"text-align: right;\">\n",
       "      <th></th>\n",
       "      <th>session_type</th>\n",
       "      <th>labels</th>\n",
       "    </tr>\n",
       "  </thead>\n",
       "  <tbody>\n",
       "    <tr>\n",
       "      <th>0</th>\n",
       "      <td>12899779_clicks</td>\n",
       "      <td>59625 571260 1712451 1211029 1398778 286417 33...</td>\n",
       "    </tr>\n",
       "    <tr>\n",
       "      <th>1</th>\n",
       "      <td>12899780_clicks</td>\n",
       "      <td>1142000 736515 973453 582732 1515891 139305 91...</td>\n",
       "    </tr>\n",
       "    <tr>\n",
       "      <th>2</th>\n",
       "      <td>12899781_clicks</td>\n",
       "      <td>918667 199008 194067 57315 141736 141648 10860...</td>\n",
       "    </tr>\n",
       "    <tr>\n",
       "      <th>3</th>\n",
       "      <td>12899782_clicks</td>\n",
       "      <td>834354 595994 740494 889671 987399 779477 1344...</td>\n",
       "    </tr>\n",
       "    <tr>\n",
       "      <th>4</th>\n",
       "      <td>12899783_clicks</td>\n",
       "      <td>1817895 607638 1754419 1216820 1729553 300127 ...</td>\n",
       "    </tr>\n",
       "  </tbody>\n",
       "</table>\n",
       "</div>"
      ],
      "text/plain": [
       "      session_type                                             labels\n",
       "0  12899779_clicks  59625 571260 1712451 1211029 1398778 286417 33...\n",
       "1  12899780_clicks  1142000 736515 973453 582732 1515891 139305 91...\n",
       "2  12899781_clicks  918667 199008 194067 57315 141736 141648 10860...\n",
       "3  12899782_clicks  834354 595994 740494 889671 987399 779477 1344...\n",
       "4  12899783_clicks  1817895 607638 1754419 1216820 1729553 300127 ..."
      ]
     },
     "execution_count": 11,
     "metadata": {},
     "output_type": "execute_result"
    }
   ],
   "source": [
    "submission.head()"
   ]
  }
 ],
 "metadata": {
  "kernelspec": {
   "display_name": "Python 3",
   "language": "python",
   "name": "python3"
  },
  "language_info": {
   "codemirror_mode": {
    "name": "ipython",
    "version": 3
   },
   "file_extension": ".py",
   "mimetype": "text/x-python",
   "name": "python",
   "nbconvert_exporter": "python",
   "pygments_lexer": "ipython3",
   "version": "3.11.3"
  },
  "orig_nbformat": 4
 },
 "nbformat": 4,
 "nbformat_minor": 2
}
